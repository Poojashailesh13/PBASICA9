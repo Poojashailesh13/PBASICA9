{
 "cells": [
  {
   "cell_type": "raw",
   "id": "f8e7df14",
   "metadata": {},
   "source": [
    "1. To what does a relative path refer?\n",
    "ans- relpath() method in Python is used to get a relative filepath to the given path either from the current working directory or from the given directory. Note: This method only computes the relative path. The existence of the given path or directory is not checked.\n"
   ]
  },
  {
   "cell_type": "raw",
   "id": "9f0a14de",
   "metadata": {},
   "source": [
    "2. What does an absolute path start with your operating system?\n",
    "ans- An absolute path is a path that contains the entire path to the file or directory that you need to access. This path will begin at the home directory of your computer and will end with the file or directory that you wish to access. Absolute paths ensure that Python can find the exact file on your computer."
   ]
  },
  {
   "cell_type": "raw",
   "id": "26888587",
   "metadata": {},
   "source": [
    "3. What do the functions os.getcwd() and os.chdir() do?\n",
    "ans- getcwd() in Python returns the current working directory of a process. Every process running under an operating system has an associated working directory, which is called as the current working directory of the process. The current working directory of a process can be changed by calling the Python method os. chdir().chdir(\"path-to-dir\") : Short for CHange DIRectory, this function allows you to set the current working directory to a path of your choice.\n",
    "\n"
   ]
  },
  {
   "cell_type": "raw",
   "id": "fd4fb74c",
   "metadata": {},
   "source": [
    "4. What are the . and .. folders?\n",
    "ans- A directory or folder is a collection of files and subdirectories. Python has the os module that provides us with many useful methods to work with directories"
   ]
  },
  {
   "cell_type": "raw",
   "id": "430efa47",
   "metadata": {},
   "source": [
    "5. In C:\\bacon\\eggs\\spam.txt, which part is the dir name, and which part is the base name?\n",
    "    ans- C:\\bacon\\eggs is the dir name, spam.txt is base name"
   ]
  },
  {
   "cell_type": "raw",
   "id": "96855066",
   "metadata": {},
   "source": [
    "6. What are the three “mode” arguments that can be passed to the open() function?\n",
    "ans- r : Opens the file in read-only mode. ...\n",
    "rb : Opens the file as read-only in binary format and starts reading from the beginning of the file. ...\n",
    "r+ : Opens a file for reading and writing, placing the pointer at the beginning of the file."
   ]
  },
  {
   "cell_type": "raw",
   "id": "e80ac737",
   "metadata": {},
   "source": [
    "7. What happens if an existing file is opened in write mode?\n",
    "ans- If a file with the same name already exists, its contents are discarded and the file is treated as a new empty file."
   ]
  },
  {
   "cell_type": "raw",
   "id": "12a5aec5",
   "metadata": {},
   "source": [
    "8. How do you tell the difference between read() and readlines()?\n",
    "ans- The main difference is that read() will read the whole file at once and then print out the first characters that take up as many bytes as you specify in the parenthesis versus the readline() that will read and print out only the first characters that take up as many bytes as you specify in the parenthesis."
   ]
  },
  {
   "cell_type": "raw",
   "id": "cfb23a85",
   "metadata": {},
   "source": [
    "9. What data structure does a shelf value resemble?\n",
    "ans- A shelf value resembles a dictionary value; it has keys and values, along with keys() and values() methods that work similarly to the dictionary methods of the same names."
   ]
  }
 ],
 "metadata": {
  "kernelspec": {
   "display_name": "Python 3 (ipykernel)",
   "language": "python",
   "name": "python3"
  },
  "language_info": {
   "codemirror_mode": {
    "name": "ipython",
    "version": 3
   },
   "file_extension": ".py",
   "mimetype": "text/x-python",
   "name": "python",
   "nbconvert_exporter": "python",
   "pygments_lexer": "ipython3",
   "version": "3.9.7"
  }
 },
 "nbformat": 4,
 "nbformat_minor": 5
}
